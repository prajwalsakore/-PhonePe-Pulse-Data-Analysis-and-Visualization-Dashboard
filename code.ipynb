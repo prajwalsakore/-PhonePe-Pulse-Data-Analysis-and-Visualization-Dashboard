{
 "cells": [
  {
   "cell_type": "code",
   "execution_count": 11,
   "id": "2d57ca31",
   "metadata": {},
   "outputs": [
    {
     "name": "stdout",
     "output_type": "stream",
     "text": [
      "                       state  year  quarter                      name   type  \\\n",
      "0  andaman-&-nicobar-islands  2018        1  Recharge & bill payments  TOTAL   \n",
      "1  andaman-&-nicobar-islands  2018        1     Peer-to-peer payments  TOTAL   \n",
      "2  andaman-&-nicobar-islands  2018        1         Merchant payments  TOTAL   \n",
      "3  andaman-&-nicobar-islands  2018        1        Financial Services  TOTAL   \n",
      "4  andaman-&-nicobar-islands  2018        1                    Others  TOTAL   \n",
      "\n",
      "   count        amount  \n",
      "0   4200  1.845307e+06  \n",
      "1   1871  1.213866e+07  \n",
      "2    298  4.525072e+05  \n",
      "3     33  1.060142e+04  \n",
      "4    256  1.846899e+05  \n"
     ]
    }
   ],
   "source": [
    "import os\n",
    "import json\n",
    "import pandas as pd\n",
    "\n",
    "def extract_and_transform_data(base_path=\"pulse/data/aggregated/transaction/country/india/state/\"):\n",
    "    data_list = []\n",
    "\n",
    "    # Traversing through all states\n",
    "    for state_folder in os.listdir(base_path):\n",
    "        state_path = os.path.join(base_path, state_folder)\n",
    "\n",
    "        if os.path.isdir(state_path):  # Check if it is a directory (state)\n",
    "            for year in os.listdir(state_path):\n",
    "                year_path = os.path.join(state_path, year)\n",
    "                \n",
    "                if os.path.isdir(year_path):  # Check if it is a directory (year)\n",
    "                    for quarter_file in os.listdir(year_path):\n",
    "                        file_path = os.path.join(year_path, quarter_file)\n",
    "                        \n",
    "                        if file_path.endswith('.json'):\n",
    "                            with open(file_path, 'r') as f:\n",
    "                                data = json.load(f)\n",
    "\n",
    "                            for transaction in data.get('data', {}).get('transactionData', []):\n",
    "                                record = {\n",
    "                                    'state': state_folder,\n",
    "                                    'year': int(year),\n",
    "                                    'quarter': int(quarter_file.replace('.json', '')),\n",
    "                                    'name': transaction['name'],\n",
    "                                    'type': transaction['paymentInstruments'][0]['type'],\n",
    "                                    'count': transaction['paymentInstruments'][0]['count'],\n",
    "                                    'amount': transaction['paymentInstruments'][0]['amount']\n",
    "                                }\n",
    "                                data_list.append(record)\n",
    "\n",
    "    # Creating a DataFrame\n",
    "    df = pd.DataFrame(data_list)\n",
    "    return df\n",
    "\n",
    "# Extract and transform the data\n",
    "df = extract_and_transform_data()\n",
    "print(df.head())\n"
   ]
  },
  {
   "cell_type": "code",
   "execution_count": 13,
   "id": "54f43d6a",
   "metadata": {},
   "outputs": [],
   "source": [
    "import mysql.connector\n",
    "\n",
    "# Connect to MySQL\n",
    "connection = mysql.connector.connect(\n",
    "    host=\"localhost\",\n",
    "    user=\"root\",\n",
    "    password=\"root@1234\",\n",
    "    database=\"phonepe_data\"\n",
    ")\n",
    "cursor = connection.cursor()\n",
    "\n",
    "# Creating a table to store data\n",
    "cursor.execute('''\n",
    "    CREATE TABLE IF NOT EXISTS transactions (\n",
    "        state VARCHAR(50),\n",
    "        year INT,\n",
    "        quarter INT,\n",
    "        name VARCHAR(100),\n",
    "        type VARCHAR(50),\n",
    "        count BIGINT,\n",
    "        amount FLOAT\n",
    "    )\n",
    "''')\n",
    "\n",
    "# Inserting data into the table\n",
    "for _, row in df.iterrows():\n",
    "    cursor.execute('''\n",
    "        INSERT INTO transactions (state, year, quarter, name, type, count, amount)\n",
    "        VALUES (%s, %s, %s, %s, %s, %s, %s)\n",
    "    ''', tuple(row))\n",
    "\n",
    "connection.commit()\n",
    "connection.close()\n"
   ]
  },
  {
   "cell_type": "code",
   "execution_count": null,
   "id": "05d21c04",
   "metadata": {},
   "outputs": [],
   "source": []
  }
 ],
 "metadata": {
  "kernelspec": {
   "display_name": "Python 3",
   "language": "python",
   "name": "python3"
  },
  "language_info": {
   "codemirror_mode": {
    "name": "ipython",
    "version": 3
   },
   "file_extension": ".py",
   "mimetype": "text/x-python",
   "name": "python",
   "nbconvert_exporter": "python",
   "pygments_lexer": "ipython3",
   "version": "3.8.8"
  }
 },
 "nbformat": 4,
 "nbformat_minor": 5
}
